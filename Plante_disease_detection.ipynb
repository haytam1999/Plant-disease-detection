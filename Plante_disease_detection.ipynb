{
  "nbformat": 4,
  "nbformat_minor": 0,
  "metadata": {
    "colab": {
      "name": "Plante_disease_detection.ipynb",
      "provenance": [],
      "collapsed_sections": []
    },
    "kernelspec": {
      "name": "python3",
      "display_name": "Python 3"
    },
    "accelerator": "GPU"
  },
  "cells": [
    {
      "cell_type": "code",
      "metadata": {
        "id": "CbNaSFQyUUyk"
      },
      "source": [
        "#!unzip \"/content/drive/MyDrive/Plante disease/PlantVillage.zip\" -d \"/content/drive/MyDrive/Plante disease\""
      ],
      "execution_count": null,
      "outputs": []
    },
    {
      "cell_type": "markdown",
      "metadata": {
        "id": "gZaMjn601UEf"
      },
      "source": [
        "## Import libraries we're gonna need"
      ]
    },
    {
      "cell_type": "code",
      "metadata": {
        "id": "2El4gpUXbYTq"
      },
      "source": [
        "import numpy as np\n",
        "import pickle\n",
        "import cv2\n",
        "from os import listdir\n",
        "from sklearn.preprocessing import LabelBinarizer\n",
        "from keras.models import Sequential\n",
        "from keras.layers.normalization import BatchNormalization\n",
        "from keras.layers.convolutional import Conv2D\n",
        "from keras.layers.convolutional import MaxPooling2D\n",
        "from keras.layers.core import Activation, Flatten, Dropout, Dense\n",
        "from keras import backend as K\n",
        "from keras.preprocessing.image import ImageDataGenerator\n",
        "from keras.optimizers import Adam\n",
        "from keras.preprocessing import image\n",
        "from keras.preprocessing.image import img_to_array\n",
        "from sklearn.preprocessing import MultiLabelBinarizer\n",
        "from sklearn.model_selection import train_test_split\n",
        "import matplotlib.pyplot as plt"
      ],
      "execution_count": 1,
      "outputs": []
    },
    {
      "cell_type": "code",
      "metadata": {
        "id": "NToH_aKMiuaB"
      },
      "source": [
        "EPOCHS = 25\n",
        "INIT_LR = 1e-3\n",
        "BS = 25\n",
        "default_image_size = tuple((256, 256))\n",
        "image_size = 0\n",
        "directory_root = '/content/drive/MyDrive/Plante disease'\n",
        "width=256\n",
        "height=256\n",
        "depth=3"
      ],
      "execution_count": 2,
      "outputs": []
    },
    {
      "cell_type": "markdown",
      "metadata": {
        "id": "AQWWaFxf1cGY"
      },
      "source": [
        "## Convert images into arrays"
      ]
    },
    {
      "cell_type": "code",
      "metadata": {
        "id": "wJoSngOei619"
      },
      "source": [
        "def convert_image_to_array(image_dir):\n",
        "    try:\n",
        "        image = cv2.imread(image_dir)\n",
        "        if image is not None :\n",
        "            image = cv2.resize(image, default_image_size)   \n",
        "            return img_to_array(image)\n",
        "        else :\n",
        "            return np.array([])\n",
        "    except Exception as e:\n",
        "        print(f\"Error : {e}\")\n",
        "        return None"
      ],
      "execution_count": 3,
      "outputs": []
    },
    {
      "cell_type": "code",
      "metadata": {
        "colab": {
          "base_uri": "https://localhost:8080/",
          "height": 273
        },
        "id": "-PvlHf2SjCDj",
        "outputId": "54bca1a0-02a8-4585-a8c7-1f7985e3d295"
      },
      "source": [
        "from IPython.display import display, Image\n",
        "Image(\"/content/drive/MyDrive/Plante disease/PlantVillage/Pepper__bell___Bacterial_spot/0022d6b7-d47c-4ee2-ae9a-392a53f48647___JR_B.Spot 8964.JPG\")"
      ],
      "execution_count": 4,
      "outputs": [
        {
          "output_type": "execute_result",
          "data": {
            "image/jpeg": "[encoded data removed]",
            "text/plain": [
              "<IPython.core.display.Image object>"
            ]
          },
          "metadata": {
            "tags": []
          },
          "execution_count": 4
        }
      ]
    },
    {
      "cell_type": "markdown",
      "metadata": {
        "id": "-k7Tza7I1gX9"
      },
      "source": [
        "## Read images and load them into listes"
      ]
    },
    {
      "cell_type": "code",
      "metadata": {
        "colab": {
          "base_uri": "https://localhost:8080/"
        },
        "id": "odPqMWJNjE9F",
        "outputId": "c2241502-258b-45f5-8f7d-945b774dc2a4"
      },
      "source": [
        "image_list, label_list = [], []\n",
        "try:\n",
        "    print(\"[INFO] Loading images ...\")\n",
        "    root_dir = listdir(directory_root)\n",
        "    for directory in root_dir :\n",
        "        # remove .DS_Store from list\n",
        "        if directory == \".DS_Store\" :\n",
        "            root_dir.remove(directory)\n",
        "\n",
        "    for plant_folder in root_dir :\n",
        "        plant_disease_folder_list = listdir(f\"{directory_root}/{plant_folder}\")\n",
        "        \n",
        "        for disease_folder in plant_disease_folder_list :\n",
        "            # remove .DS_Store from list\n",
        "            if disease_folder == \".DS_Store\" :\n",
        "                plant_disease_folder_list.remove(disease_folder)\n",
        "\n",
        "        for plant_disease_folder in plant_disease_folder_list:\n",
        "            print(f\"[INFO] Processing {plant_disease_folder} ...\")\n",
        "            plant_disease_image_list = listdir(f\"{directory_root}/{plant_folder}/{plant_disease_folder}/\")\n",
        "                \n",
        "            for single_plant_disease_image in plant_disease_image_list :\n",
        "                if single_plant_disease_image == \".DS_Store\" :\n",
        "                    plant_disease_image_list.remove(single_plant_disease_image)\n",
        "\n",
        "            for image in plant_disease_image_list[:200]:\n",
        "                image_directory = f\"{directory_root}/{plant_folder}/{plant_disease_folder}/{image}\"\n",
        "                if image_directory.endswith(\".jpg\") == True or image_directory.endswith(\".JPG\") == True:\n",
        "                    image_list.append(convert_image_to_array(image_directory))\n",
        "                    label_list.append(plant_disease_folder)\n",
        "    print(\"[INFO] Image loading completed\")  \n",
        "except Exception as e:\n",
        "    print(f\"Error : {e}\")"
      ],
      "execution_count": 5,
      "outputs": [
        {
          "output_type": "stream",
          "text": [
            "[INFO] Loading images ...\n",
            "[INFO] Processing Pepper__bell___Bacterial_spot ...\n",
            "[INFO] Processing Pepper__bell___healthy ...\n",
            "[INFO] Processing Potato___Early_blight ...\n",
            "[INFO] Processing Potato___Late_blight ...\n",
            "[INFO] Processing Potato___healthy ...\n",
            "[INFO] Processing Tomato_Bacterial_spot ...\n",
            "[INFO] Processing Tomato_Early_blight ...\n",
            "[INFO] Processing Tomato_Late_blight ...\n",
            "[INFO] Processing Tomato_Leaf_Mold ...\n",
            "[INFO] Processing Tomato_Septoria_leaf_spot ...\n",
            "[INFO] Image loading completed\n"
          ],
          "name": "stdout"
        }
      ]
    },
    {
      "cell_type": "code",
      "metadata": {
        "colab": {
          "base_uri": "https://localhost:8080/"
        },
        "id": "hlY_Rv5UjlvI",
        "outputId": "08b43835-896c-4b4d-a4a4-a498bb2ec3b3"
      },
      "source": [
        "image_size = len(image_list)\n",
        "print(image_size)"
      ],
      "execution_count": 6,
      "outputs": [
        {
          "output_type": "stream",
          "text": [
            "1657\n"
          ],
          "name": "stdout"
        }
      ]
    },
    {
      "cell_type": "code",
      "metadata": {
        "id": "CmGYwdVsnkpu"
      },
      "source": [
        "label_binarizer = LabelBinarizer()\n",
        "image_labels = label_binarizer.fit_transform(label_list)\n",
        "pickle.dump(label_binarizer,open('label_transform.pkl', 'wb'))\n",
        "n_classes = len(label_binarizer.classes_)"
      ],
      "execution_count": 7,
      "outputs": []
    },
    {
      "cell_type": "code",
      "metadata": {
        "colab": {
          "base_uri": "https://localhost:8080/"
        },
        "id": "ciS3tuJRuxD-",
        "outputId": "1e7bc723-36e0-486d-8651-8b6bcdc64a9c"
      },
      "source": [
        "print(label_binarizer.classes_)"
      ],
      "execution_count": 8,
      "outputs": [
        {
          "output_type": "stream",
          "text": [
            "['Pepper__bell___Bacterial_spot' 'Pepper__bell___healthy'\n",
            " 'Potato___Early_blight' 'Potato___Late_blight' 'Potato___healthy'\n",
            " 'Tomato_Bacterial_spot' 'Tomato_Early_blight' 'Tomato_Late_blight'\n",
            " 'Tomato_Leaf_Mold']\n"
          ],
          "name": "stdout"
        }
      ]
    },
    {
      "cell_type": "code",
      "metadata": {
        "id": "x0AgOC3fuxlN"
      },
      "source": [
        "np_image_list = np.array(image_list, dtype=np.float16) / 255.0"
      ],
      "execution_count": 9,
      "outputs": []
    },
    {
      "cell_type": "code",
      "metadata": {
        "colab": {
          "base_uri": "https://localhost:8080/"
        },
        "id": "dT_z0ECVu4Lb",
        "outputId": "0b453312-37dd-49e8-e74e-8563ccd0b81a"
      },
      "source": [
        "np_image_list[0]"
      ],
      "execution_count": 10,
      "outputs": [
        {
          "output_type": "execute_result",
          "data": {
            "text/plain": [
              "array([[[0.3804, 0.3687, 0.4275],\n",
              "        [0.357 , 0.3452, 0.4038],\n",
              "        [0.4785, 0.4666, 0.5254],\n",
              "        ...,\n",
              "        [0.5845, 0.5806, 0.643 ],\n",
              "        [0.604 , 0.6   , 0.6626],\n",
              "        [0.643 , 0.639 , 0.702 ]],\n",
              "\n",
              "       [[0.4941, 0.4824, 0.541 ],\n",
              "        [0.396 , 0.3843, 0.443 ],\n",
              "        [0.4626, 0.451 , 0.51  ],\n",
              "        ...,\n",
              "        [0.5845, 0.5806, 0.643 ],\n",
              "        [0.5806, 0.5767, 0.639 ],\n",
              "        [0.5923, 0.5884, 0.651 ]],\n",
              "\n",
              "       [[0.5293, 0.5176, 0.5767],\n",
              "        [0.341 , 0.3293, 0.3882],\n",
              "        [0.5566, 0.545 , 0.604 ],\n",
              "        ...,\n",
              "        [0.6   , 0.596 , 0.6587],\n",
              "        [0.5767, 0.5728, 0.6353],\n",
              "        [0.569 , 0.565 , 0.6274]],\n",
              "\n",
              "       ...,\n",
              "\n",
              "       [[0.5845, 0.5566, 0.608 ],\n",
              "        [0.647 , 0.6196, 0.6704],\n",
              "        [0.8276, 0.8   , 0.851 ],\n",
              "        ...,\n",
              "        [0.596 , 0.5605, 0.612 ],\n",
              "        [0.596 , 0.5605, 0.612 ],\n",
              "        [0.5923, 0.5566, 0.608 ]],\n",
              "\n",
              "       [[0.612 , 0.5845, 0.6353],\n",
              "        [0.5293, 0.502 , 0.5527],\n",
              "        [0.5605, 0.533 , 0.5845],\n",
              "        ...,\n",
              "        [0.651 , 0.6157, 0.6665],\n",
              "        [0.6587, 0.6235, 0.6743],\n",
              "        [0.651 , 0.6157, 0.6665]],\n",
              "\n",
              "       [[0.6743, 0.647 , 0.698 ],\n",
              "        [0.6313, 0.604 , 0.655 ],\n",
              "        [0.745 , 0.718 , 0.7686],\n",
              "        ...,\n",
              "        [0.6353, 0.6   , 0.651 ],\n",
              "        [0.655 , 0.6196, 0.6704],\n",
              "        [0.651 , 0.6157, 0.6665]]], dtype=float16)"
            ]
          },
          "metadata": {
            "tags": []
          },
          "execution_count": 10
        }
      ]
    },
    {
      "cell_type": "markdown",
      "metadata": {
        "id": "xdSjNzpi1m33"
      },
      "source": [
        "## Split data into train and test"
      ]
    },
    {
      "cell_type": "code",
      "metadata": {
        "colab": {
          "base_uri": "https://localhost:8080/"
        },
        "id": "GfyP6FaRu6Z2",
        "outputId": "4f274965-35fe-4f48-ddc8-bd5e130fb6e8"
      },
      "source": [
        "print(\"[INFO] Spliting data to train, test\")\n",
        "x_train, x_test, y_train, y_test = train_test_split(np_image_list, image_labels, test_size=0.2, random_state = 42) "
      ],
      "execution_count": 11,
      "outputs": [
        {
          "output_type": "stream",
          "text": [
            "[INFO] Spliting data to train, test\n"
          ],
          "name": "stdout"
        }
      ]
    },
    {
      "cell_type": "code",
      "metadata": {
        "id": "eOjCE8kru9_6"
      },
      "source": [
        "aug = ImageDataGenerator(\n",
        "    rotation_range=25, width_shift_range=0.1,\n",
        "    height_shift_range=0.1, shear_range=0.2, \n",
        "    zoom_range=0.2,horizontal_flip=True, \n",
        "    fill_mode=\"nearest\")"
      ],
      "execution_count": 12,
      "outputs": []
    },
    {
      "cell_type": "markdown",
      "metadata": {
        "id": "ARHW3I0a1qmw"
      },
      "source": [
        "## Create our model"
      ]
    },
    {
      "cell_type": "code",
      "metadata": {
        "id": "bnXmau_FvA_S"
      },
      "source": [
        "model = Sequential()\n",
        "inputShape = (height, width, depth)\n",
        "chanDim = -1\n",
        "if K.image_data_format() == \"channels_first\":\n",
        "    inputShape = (depth, height, width)\n",
        "    chanDim = 1\n",
        "model.add(Conv2D(32, (3, 3), padding=\"same\",input_shape=inputShape))\n",
        "model.add(Activation(\"relu\"))\n",
        "model.add(BatchNormalization(axis=chanDim))\n",
        "model.add(MaxPooling2D(pool_size=(3, 3)))\n",
        "model.add(Dropout(0.25))\n",
        "model.add(Conv2D(64, (3, 3), padding=\"same\"))\n",
        "model.add(Activation(\"relu\"))\n",
        "model.add(BatchNormalization(axis=chanDim))\n",
        "model.add(Conv2D(64, (3, 3), padding=\"same\"))\n",
        "model.add(Activation(\"relu\"))\n",
        "model.add(BatchNormalization(axis=chanDim))\n",
        "model.add(MaxPooling2D(pool_size=(2, 2)))\n",
        "model.add(Dropout(0.25))\n",
        "model.add(Conv2D(128, (3, 3), padding=\"same\"))\n",
        "model.add(Activation(\"relu\"))\n",
        "model.add(BatchNormalization(axis=chanDim))\n",
        "model.add(Conv2D(128, (3, 3), padding=\"same\"))\n",
        "model.add(Activation(\"relu\"))\n",
        "model.add(BatchNormalization(axis=chanDim))\n",
        "model.add(MaxPooling2D(pool_size=(2, 2)))\n",
        "model.add(Dropout(0.25))\n",
        "model.add(Flatten())\n",
        "model.add(Dense(1024))\n",
        "model.add(Activation(\"relu\"))\n",
        "model.add(BatchNormalization())\n",
        "model.add(Dropout(0.5))\n",
        "model.add(Dense(n_classes))\n",
        "model.add(Activation(\"softmax\"))"
      ],
      "execution_count": 13,
      "outputs": []
    },
    {
      "cell_type": "code",
      "metadata": {
        "colab": {
          "base_uri": "https://localhost:8080/"
        },
        "id": "ODVjEmnJvDHx",
        "outputId": "dfbd65c0-53e5-4fb3-e313-416f2ccb2dff"
      },
      "source": [
        "model.summary()"
      ],
      "execution_count": 14,
      "outputs": [
        {
          "output_type": "stream",
          "text": [
            "Model: \"sequential\"\n",
            "_________________________________________________________________\n",
            "Layer (type)                 Output Shape              Param #   \n",
            "=================================================================\n",
            "conv2d (Conv2D)              (None, 256, 256, 32)      896       \n",
            "_________________________________________________________________\n",
            "activation (Activation)      (None, 256, 256, 32)      0         \n",
            "_________________________________________________________________\n",
            "batch_normalization (BatchNo (None, 256, 256, 32)      128       \n",
            "_________________________________________________________________\n",
            "max_pooling2d (MaxPooling2D) (None, 85, 85, 32)        0         \n",
            "_________________________________________________________________\n",
            "dropout (Dropout)            (None, 85, 85, 32)        0         \n",
            "_________________________________________________________________\n",
            "conv2d_1 (Conv2D)            (None, 85, 85, 64)        18496     \n",
            "_________________________________________________________________\n",
            "activation_1 (Activation)    (None, 85, 85, 64)        0         \n",
            "_________________________________________________________________\n",
            "batch_normalization_1 (Batch (None, 85, 85, 64)        256       \n",
            "_________________________________________________________________\n",
            "conv2d_2 (Conv2D)            (None, 85, 85, 64)        36928     \n",
            "_________________________________________________________________\n",
            "activation_2 (Activation)    (None, 85, 85, 64)        0         \n",
            "_________________________________________________________________\n",
            "batch_normalization_2 (Batch (None, 85, 85, 64)        256       \n",
            "_________________________________________________________________\n",
            "max_pooling2d_1 (MaxPooling2 (None, 42, 42, 64)        0         \n",
            "_________________________________________________________________\n",
            "dropout_1 (Dropout)          (None, 42, 42, 64)        0         \n",
            "_________________________________________________________________\n",
            "conv2d_3 (Conv2D)            (None, 42, 42, 128)       73856     \n",
            "_________________________________________________________________\n",
            "activation_3 (Activation)    (None, 42, 42, 128)       0         \n",
            "_________________________________________________________________\n",
            "batch_normalization_3 (Batch (None, 42, 42, 128)       512       \n",
            "_________________________________________________________________\n",
            "conv2d_4 (Conv2D)            (None, 42, 42, 128)       147584    \n",
            "_________________________________________________________________\n",
            "activation_4 (Activation)    (None, 42, 42, 128)       0         \n",
            "_________________________________________________________________\n",
            "batch_normalization_4 (Batch (None, 42, 42, 128)       512       \n",
            "_________________________________________________________________\n",
            "max_pooling2d_2 (MaxPooling2 (None, 21, 21, 128)       0         \n",
            "_________________________________________________________________\n",
            "dropout_2 (Dropout)          (None, 21, 21, 128)       0         \n",
            "_________________________________________________________________\n",
            "flatten (Flatten)            (None, 56448)             0         \n",
            "_________________________________________________________________\n",
            "dense (Dense)                (None, 1024)              57803776  \n",
            "_________________________________________________________________\n",
            "activation_5 (Activation)    (None, 1024)              0         \n",
            "_________________________________________________________________\n",
            "batch_normalization_5 (Batch (None, 1024)              4096      \n",
            "_________________________________________________________________\n",
            "dropout_3 (Dropout)          (None, 1024)              0         \n",
            "_________________________________________________________________\n",
            "dense_1 (Dense)              (None, 9)                 9225      \n",
            "_________________________________________________________________\n",
            "activation_6 (Activation)    (None, 9)                 0         \n",
            "=================================================================\n",
            "Total params: 58,096,521\n",
            "Trainable params: 58,093,641\n",
            "Non-trainable params: 2,880\n",
            "_________________________________________________________________\n"
          ],
          "name": "stdout"
        }
      ]
    },
    {
      "cell_type": "code",
      "metadata": {
        "colab": {
          "base_uri": "https://localhost:8080/"
        },
        "id": "BD7v5gtyu91n",
        "outputId": "ba885ebe-761a-4d8e-c05d-729bf31375d9"
      },
      "source": [
        "opt = Adam(lr=INIT_LR, decay=INIT_LR / EPOCHS)\n",
        "# distribution\n",
        "model.compile(loss=\"binary_crossentropy\", optimizer=opt,metrics=[\"accuracy\"])\n",
        "# train the network\n",
        "print(\"[INFO] training network...\")"
      ],
      "execution_count": 15,
      "outputs": [
        {
          "output_type": "stream",
          "text": [
            "[INFO] training network...\n"
          ],
          "name": "stdout"
        }
      ]
    },
    {
      "cell_type": "markdown",
      "metadata": {
        "id": "I3-b6yaO1vx-"
      },
      "source": [
        "## Let's train our model"
      ]
    },
    {
      "cell_type": "code",
      "metadata": {
        "colab": {
          "base_uri": "https://localhost:8080/"
        },
        "id": "HNBKX3SxvJp7",
        "outputId": "559d0b8f-2c5a-418b-f681-32d391a41f6a"
      },
      "source": [
        "history = model.fit_generator(\n",
        "    aug.flow(x_train, y_train, batch_size=BS),\n",
        "    validation_data=(x_test, y_test),\n",
        "    steps_per_epoch=len(x_train) // BS,\n",
        "    epochs=EPOCHS, verbose=1\n",
        "    )"
      ],
      "execution_count": 16,
      "outputs": [
        {
          "output_type": "stream",
          "text": [
            "/usr/local/lib/python3.7/dist-packages/tensorflow/python/keras/engine/training.py:1844: UserWarning: `Model.fit_generator` is deprecated and will be removed in a future version. Please use `Model.fit`, which supports generators.\n",
            "  warnings.warn('`Model.fit_generator` is deprecated and '\n"
          ],
          "name": "stderr"
        },
        {
          "output_type": "stream",
          "text": [
            "Epoch 1/25\n",
            "53/53 [==============================] - 55s 450ms/step - loss: 0.8251 - accuracy: 0.2767 - val_loss: 0.5944 - val_accuracy: 0.1596\n",
            "Epoch 2/25\n",
            "53/53 [==============================] - 22s 414ms/step - loss: 0.4611 - accuracy: 0.4300 - val_loss: 1.2728 - val_accuracy: 0.1506\n",
            "Epoch 3/25\n",
            "53/53 [==============================] - 22s 414ms/step - loss: 0.4282 - accuracy: 0.3630 - val_loss: 1.2807 - val_accuracy: 0.0873\n",
            "Epoch 4/25\n",
            "53/53 [==============================] - 22s 414ms/step - loss: 0.3019 - accuracy: 0.5159 - val_loss: 0.8199 - val_accuracy: 0.1596\n",
            "Epoch 5/25\n",
            "53/53 [==============================] - 22s 419ms/step - loss: 0.2266 - accuracy: 0.6746 - val_loss: 0.8465 - val_accuracy: 0.1295\n",
            "Epoch 6/25\n",
            "53/53 [==============================] - 22s 415ms/step - loss: 0.2030 - accuracy: 0.6661 - val_loss: 0.7228 - val_accuracy: 0.1627\n",
            "Epoch 7/25\n",
            "53/53 [==============================] - 22s 408ms/step - loss: 0.1772 - accuracy: 0.7155 - val_loss: 0.7911 - val_accuracy: 0.1596\n",
            "Epoch 8/25\n",
            "53/53 [==============================] - 22s 407ms/step - loss: 0.1477 - accuracy: 0.7677 - val_loss: 0.7125 - val_accuracy: 0.1747\n",
            "Epoch 9/25\n",
            "53/53 [==============================] - 22s 405ms/step - loss: 0.1437 - accuracy: 0.7943 - val_loss: 0.4322 - val_accuracy: 0.3193\n",
            "Epoch 10/25\n",
            "53/53 [==============================] - 22s 409ms/step - loss: 0.1249 - accuracy: 0.8280 - val_loss: 0.4546 - val_accuracy: 0.3886\n",
            "Epoch 11/25\n",
            "53/53 [==============================] - 22s 415ms/step - loss: 0.1270 - accuracy: 0.8299 - val_loss: 0.3077 - val_accuracy: 0.5602\n",
            "Epoch 12/25\n",
            "53/53 [==============================] - 22s 422ms/step - loss: 0.1170 - accuracy: 0.8489 - val_loss: 0.2158 - val_accuracy: 0.6657\n",
            "Epoch 13/25\n",
            "53/53 [==============================] - 22s 422ms/step - loss: 0.1005 - accuracy: 0.8667 - val_loss: 0.2436 - val_accuracy: 0.6205\n",
            "Epoch 14/25\n",
            "53/53 [==============================] - 22s 415ms/step - loss: 0.1038 - accuracy: 0.8550 - val_loss: 0.1128 - val_accuracy: 0.8313\n",
            "Epoch 15/25\n",
            "53/53 [==============================] - 22s 409ms/step - loss: 0.0941 - accuracy: 0.8775 - val_loss: 0.1961 - val_accuracy: 0.6988\n",
            "Epoch 16/25\n",
            "53/53 [==============================] - 22s 411ms/step - loss: 0.1009 - accuracy: 0.8598 - val_loss: 0.1538 - val_accuracy: 0.7620\n",
            "Epoch 17/25\n",
            "53/53 [==============================] - 22s 417ms/step - loss: 0.0840 - accuracy: 0.8970 - val_loss: 0.1463 - val_accuracy: 0.7892\n",
            "Epoch 18/25\n",
            "53/53 [==============================] - 22s 413ms/step - loss: 0.1015 - accuracy: 0.8525 - val_loss: 0.2661 - val_accuracy: 0.6536\n",
            "Epoch 19/25\n",
            "53/53 [==============================] - 22s 414ms/step - loss: 0.0831 - accuracy: 0.9001 - val_loss: 0.2661 - val_accuracy: 0.7169\n",
            "Epoch 20/25\n",
            "53/53 [==============================] - 22s 420ms/step - loss: 0.0841 - accuracy: 0.8845 - val_loss: 0.1380 - val_accuracy: 0.8072\n",
            "Epoch 21/25\n",
            "53/53 [==============================] - 22s 423ms/step - loss: 0.0735 - accuracy: 0.9043 - val_loss: 0.1197 - val_accuracy: 0.8133\n",
            "Epoch 22/25\n",
            "53/53 [==============================] - 22s 419ms/step - loss: 0.0711 - accuracy: 0.9134 - val_loss: 0.0939 - val_accuracy: 0.8614\n",
            "Epoch 23/25\n",
            "53/53 [==============================] - 22s 416ms/step - loss: 0.0651 - accuracy: 0.9320 - val_loss: 0.2913 - val_accuracy: 0.6506\n",
            "Epoch 24/25\n",
            "53/53 [==============================] - 22s 416ms/step - loss: 0.0677 - accuracy: 0.9005 - val_loss: 0.1455 - val_accuracy: 0.7771\n",
            "Epoch 25/25\n",
            "53/53 [==============================] - 22s 417ms/step - loss: 0.0735 - accuracy: 0.8882 - val_loss: 0.1393 - val_accuracy: 0.7982\n"
          ],
          "name": "stdout"
        }
      ]
    },
    {
      "cell_type": "markdown",
      "metadata": {
        "id": "eUrhG9Kv104A"
      },
      "source": [
        "## Evaluate our model"
      ]
    },
    {
      "cell_type": "code",
      "metadata": {
        "colab": {
          "base_uri": "https://localhost:8080/",
          "height": 545
        },
        "id": "M1DVidpUvOvu",
        "outputId": "9b67893d-69d9-4ec4-d059-01293070539d"
      },
      "source": [
        "acc = history.history['accuracy']\n",
        "val_acc = history.history['val_accuracy']\n",
        "loss = history.history['loss']\n",
        "val_loss = history.history['val_loss']\n",
        "epochs = range(1, len(acc) + 1)\n",
        "#Train and validation accuracy\n",
        "plt.plot(epochs, acc, 'b', label='Training accurarcy')\n",
        "plt.plot(epochs, val_acc, 'r', label='Validation accurarcy')\n",
        "plt.title('Training and Validation accurarcy')\n",
        "plt.legend()\n",
        "\n",
        "plt.figure()\n",
        "#Train and validation loss\n",
        "plt.plot(epochs, loss, 'b', label='Training loss')\n",
        "plt.plot(epochs, val_loss, 'r', label='Validation loss')\n",
        "plt.title('Training and Validation loss')\n",
        "plt.legend()\n",
        "plt.show()"
      ],
      "execution_count": 17,
      "outputs": [
        {
          "output_type": "display_data",
          "data": {
            "image/png": "[encoded data removed]",
            "text/plain": [
              "<Figure size 432x288 with 1 Axes>"
            ]
          },
          "metadata": {
            "tags": [],
            "needs_background": "light"
          }
        },
        {
          "output_type": "display_data",
          "data": {
            "image/png": "[encoded data removed]",
            "text/plain": [
              "<Figure size 432x288 with 1 Axes>"
            ]
          },
          "metadata": {
            "tags": [],
            "needs_background": "light"
          }
        }
      ]
    },
    {
      "cell_type": "code",
      "metadata": {
        "colab": {
          "base_uri": "https://localhost:8080/"
        },
        "id": "7CQ6sZa71P4Z",
        "outputId": "e85e8410-468a-41cf-8c11-717fe1d974ee"
      },
      "source": [
        "print(\"[INFO] Calculating model accuracy\")\n",
        "scores = model.evaluate(x_test, y_test)\n",
        "print(f\"Test Accuracy: {scores[1]*100}\")"
      ],
      "execution_count": 18,
      "outputs": [
        {
          "output_type": "stream",
          "text": [
            "[INFO] Calculating model accuracy\n",
            "11/11 [==============================] - 1s 65ms/step - loss: 0.1393 - accuracy: 0.7982\n",
            "Test Accuracy: 79.81927990913391\n"
          ],
          "name": "stdout"
        }
      ]
    },
    {
      "cell_type": "markdown",
      "metadata": {
        "id": "84sTu55O2AGM"
      },
      "source": [
        "## Saving the model"
      ]
    },
    {
      "cell_type": "code",
      "metadata": {
        "colab": {
          "base_uri": "https://localhost:8080/"
        },
        "id": "z3SB-W4_15a-",
        "outputId": "be99a654-210c-4d12-a1d6-9ef68e729ff2"
      },
      "source": [
        "model.save('/content/drive/MyDrive/Plante_disease_model')"
      ],
      "execution_count": 19,
      "outputs": [
        {
          "output_type": "stream",
          "text": [
            "INFO:tensorflow:Assets written to: /content/drive/MyDrive/Plante_disease_model/assets\n"
          ],
          "name": "stdout"
        }
      ]
    },
    {
      "cell_type": "code",
      "metadata": {
        "id": "2wj00zpq2OA8"
      },
      "source": [
        "from keras.models import load_model\n",
        "saved_model = load_model('/content/drive/MyDrive/Plante_disease_model')"
      ],
      "execution_count": 21,
      "outputs": []
    },
    {
      "cell_type": "markdown",
      "metadata": {
        "id": "WyK52dM82O4D"
      },
      "source": [
        "## Making predictions"
      ]
    },
    {
      "cell_type": "code",
      "metadata": {
        "id": "WFC1w33Z2ufW"
      },
      "source": [
        "#image_dir=\"path\\\\plantdisease_dataset\\\\PlantVillage\\\\Potato___Early_blight\"\n",
        "\n",
        "image_dir=\"/content/drive/MyDrive/Plante disease/PlantVillage/Potato___Early_blight/0182e991-97f0-4805-a1f7-6e1b4306d518___RS_Early.B 7015.JPG\"\n",
        "\n",
        "\n",
        "im=convert_image_to_array(image_dir)\n",
        "np_image_li = np.array(im, dtype=np.float16) / 225.0\n",
        "npp_image = np.expand_dims(np_image_li, axis=0)"
      ],
      "execution_count": 35,
      "outputs": []
    },
    {
      "cell_type": "markdown",
      "metadata": {
        "id": "X8K7NaBX25j8"
      },
      "source": [
        "#### With our first model"
      ]
    },
    {
      "cell_type": "code",
      "metadata": {
        "colab": {
          "base_uri": "https://localhost:8080/"
        },
        "id": "whlkQF7J28Wl",
        "outputId": "0d0f62bd-a135-49b2-b7b1-6d340f6b5da9"
      },
      "source": [
        "result=model.predict(npp_image)\n",
        "\n",
        "print(result)"
      ],
      "execution_count": 36,
      "outputs": [
        {
          "output_type": "stream",
          "text": [
            "[[8.2472332e-07 2.3888342e-06 9.9989879e-01 2.3542119e-09 2.6274483e-05\n",
            "  1.6013044e-09 4.3793449e-09 7.1752838e-05 1.0651358e-08]]\n"
          ],
          "name": "stdout"
        }
      ]
    },
    {
      "cell_type": "code",
      "metadata": {
        "colab": {
          "base_uri": "https://localhost:8080/"
        },
        "id": "2ZunhECF29sA",
        "outputId": "d70498b5-6cb7-46b0-96ea-35371d5a88c7"
      },
      "source": [
        "itemindex = np.where(result==np.max(result))\n",
        "print(\"probability:\"+str(np.max(result))+\"\\n\"+label_binarizer.classes_[itemindex[1][0]])"
      ],
      "execution_count": 37,
      "outputs": [
        {
          "output_type": "stream",
          "text": [
            "probability:0.9998988\n",
            "Potato___Early_blight\n"
          ],
          "name": "stdout"
        }
      ]
    },
    {
      "cell_type": "markdown",
      "metadata": {
        "id": "dEVKgoT72_2c"
      },
      "source": [
        "#### With the saved model"
      ]
    },
    {
      "cell_type": "code",
      "metadata": {
        "colab": {
          "base_uri": "https://localhost:8080/"
        },
        "id": "HFtiGDyQ3FQK",
        "outputId": "e0e0194e-f26d-4070-b4e7-d7d55d84344a"
      },
      "source": [
        "result=saved_model.predict(npp_image)\n",
        "\n",
        "print(result)"
      ],
      "execution_count": 38,
      "outputs": [
        {
          "output_type": "stream",
          "text": [
            "[[8.2472332e-07 2.3888342e-06 9.9989879e-01 2.3542119e-09 2.6274483e-05\n",
            "  1.6013044e-09 4.3793449e-09 7.1752838e-05 1.0651358e-08]]\n"
          ],
          "name": "stdout"
        }
      ]
    },
    {
      "cell_type": "code",
      "metadata": {
        "colab": {
          "base_uri": "https://localhost:8080/"
        },
        "id": "tLburgG93HnO",
        "outputId": "c35245b5-a536-49be-968c-3fa1adbe4cfd"
      },
      "source": [
        "itemindex = np.where(result==np.max(result))\n",
        "print(\"probability:\"+str(np.max(result))+\"\\n\"+label_binarizer.classes_[itemindex[1][0]])"
      ],
      "execution_count": 39,
      "outputs": [
        {
          "output_type": "stream",
          "text": [
            "probability:0.9998988\n",
            "Potato___Early_blight\n"
          ],
          "name": "stdout"
        }
      ]
    },
    {
      "cell_type": "code",
      "metadata": {
        "id": "gYST-Pun3Zrq"
      },
      "source": [
        ""
      ],
      "execution_count": null,
      "outputs": []
    }
  ]
}